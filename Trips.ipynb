{
  "nbformat": 4,
  "nbformat_minor": 0,
  "metadata": {
    "colab": {
      "provenance": [],
      "authorship_tag": "ABX9TyNHyf2eYOODJ27vwMDDdE0P",
      "include_colab_link": true
    },
    "kernelspec": {
      "name": "python3",
      "display_name": "Python 3"
    },
    "language_info": {
      "name": "python"
    }
  },
  "cells": [
    {
      "cell_type": "markdown",
      "metadata": {
        "id": "view-in-github",
        "colab_type": "text"
      },
      "source": [
        "<a href=\"https://colab.research.google.com/github/TaskoudisDimi/Computational-Intelligence-and-Statistical-Learning/blob/master/Trips.ipynb\" target=\"_parent\"><img src=\"https://colab.research.google.com/assets/colab-badge.svg\" alt=\"Open In Colab\"/></a>"
      ]
    },
    {
      "cell_type": "markdown",
      "source": [
        "## **Data**"
      ],
      "metadata": {
        "id": "_-eq6PiK4JOH"
      }
    },
    {
      "cell_type": "code",
      "source": [
        "import pandas as pd\n",
        "import numpy as np\n",
        "import zipfile\n",
        "import os\n",
        "import matplotlib.pyplot as plt\n",
        "\n",
        "\n",
        "\n",
        "# Colab\n",
        "from google.colab import drive\n",
        "drive.mount('/content/drive')\n",
        "\n",
        "zip_file_path = \"/content/drive/MyDrive/Programming/AI/Datasets/Trips/Trips.zip\"\n",
        "destination = \"/content/drive/MyDrive/Programming/AI/Datasets/Trips/\"\n",
        "\n",
        "with zipfile.ZipFile(zip_file_path, 'r') as zip:\n",
        "  zip.extractall(destination)\n",
        "\n",
        "\n",
        "data_dir = \"/content/drive/MyDrive/Programming/AI/Datasets/Trips/Trips/\"\n",
        "columns_file = \"/content/drive/MyDrive/Programming/AI/Datasets/Trips/columns.txt\"\n",
        "\n",
        "# Correct the column names in columns_to_keep\n",
        "columns_to_keep = ['Trip_Num', 'Start_Date', 'Start_Lat', 'Start_Lon', 'Start_PostalCode',\n",
        "                   'End_Date', 'End_Lat', 'End_Lon', 'End_PostalCode', 'Trip_Completed', 'age']\n",
        "\n"
      ],
      "metadata": {
        "id": "Styf6NPK3zly"
      },
      "execution_count": null,
      "outputs": []
    },
    {
      "cell_type": "code",
      "source": [
        "\n",
        "\n",
        "\n",
        "def ProccessingData(data_dir, columns_file):\n",
        "\n",
        "    # Create an empty list to store the DataFrames\n",
        "    dataframes = []\n",
        "    # Get a list of all files in the folder\n",
        "    file_list = os.listdir(data_dir)\n",
        "\n",
        "    # Read and clean the columns\n",
        "    with open(columns_file, 'r') as columns:\n",
        "        column_names = [line.strip(' [ ] ,\\n') for line in columns]\n",
        "        print(column_names)\n",
        "\n",
        "    # Loop through the files, read CSVs, and append DataFrames to the list\n",
        "    for file in file_list:\n",
        "        if file.endswith('.csv'):\n",
        "            file_path = os.path.join(data_dir, file)  # Full path to the CSV file\n",
        "            #Read each file\n",
        "            df = pd.read_csv(file_path)\n",
        "            #Set the columns to the data\n",
        "            df.columns.values[0:] = column_names\n",
        "            dataframes.append(df)\n",
        "\n",
        "    # Concatenate the DataFrames vertically to append rows\n",
        "    combined_df = pd.concat(dataframes, axis=0, ignore_index=True)\n",
        "\n",
        "    data = combined_df[columns_to_keep]\n",
        "    print(data)\n",
        "    rows_with_null_values = data[data.isnull().any(axis=1)]\n",
        "\n",
        "\n",
        "    # Replaces missing values with 0 in-place\n",
        "    data.fillna(0,inplace=True)\n",
        "\n",
        "    # Keep only trips with Trip_Completed = 1\n",
        "    dataTrips = data[data['Trip_Completed'] == 1]\n",
        "\n",
        "    # Drop the column Trip_Completed\n",
        "    dataTrips.drop(columns=['Trip_Completed'], inplace=True)\n",
        "\n",
        "    # Check for rows with a string value in Column2 and set Column1 to 0\n",
        "    for index, row in dataTrips.iterrows():\n",
        "        if isinstance(row['Start_PostalCode'], str):\n",
        "            dataTrips.at[index, 'Start_PostalCode'] = 0\n",
        "\n",
        "    # Data Preprocessing\n",
        "    dataTrips['Start_PostalCode'] = dataTrips['Start_PostalCode'].astype(int)  # Convert to int\n",
        "\n",
        "    # Replace the not int values\n",
        "    for index, row in dataTrips.iterrows():\n",
        "        try:\n",
        "            int_value = int(row['Start_PostalCode'])\n",
        "        except ValueError:\n",
        "            # If it's not an integer, set Column1 to 0\n",
        "            dataTrips.at[index, 'Start_PostalCode'] = 0\n",
        "\n",
        "    # Convert DateTime to Date format\n",
        "    dataTrips['Start_Date'] = pd.to_datetime(dataTrips['Start_Date'], errors='coerce')\n",
        "\n",
        "    # Drop rows with missing or invalid dates\n",
        "    dataTrips.dropna(subset=['Start_Date'], inplace=True)\n",
        "\n",
        "    # Feature Engineering\n",
        "    dataTrips['Hour'] = dataTrips['Start_Date'].dt.hour\n",
        "    dataTrips['Day'] = dataTrips['Start_Date'].dt.day\n",
        "    dataTrips['Month'] = dataTrips['Start_Date'].dt.month\n",
        "    dataTrips['Year'] = dataTrips['Start_Date'].dt.year\n",
        "\n",
        "    dataTrips['pickups'] = 1\n",
        "    dataTrips=dataTrips.groupby(['Start_Date', 'Start_PostalCode', 'Day', 'Month','Year' ])['pickups'].sum().reset_index()\n",
        "\n",
        "    dataTrips = dataTrips[dataTrips['Start_PostalCode'] != 0]\n",
        "    return dataTrips\n",
        "\n"
      ],
      "metadata": {
        "id": "9LMQRc4T33YU"
      },
      "execution_count": null,
      "outputs": []
    },
    {
      "cell_type": "code",
      "source": [
        "\n",
        "data = ProccessingData(data_dir, columns_file)\n"
      ],
      "metadata": {
        "id": "xoqUB0Re36kU"
      },
      "execution_count": null,
      "outputs": []
    },
    {
      "cell_type": "code",
      "source": [
        "\n",
        "def save(data_to_save):\n",
        "    # Specify the file path where you want to save the CSV file\n",
        "    file_path = '/content/drive/MyDrive/Programming/AI/Datasets/Trips/output_data.csv'\n",
        "\n",
        "    # Write the data to a CSV file\n",
        "    data_to_save.to_csv(file_path, index=False)\n"
      ],
      "metadata": {
        "id": "QHqM2kxc37Lq"
      },
      "execution_count": null,
      "outputs": []
    },
    {
      "cell_type": "code",
      "source": [
        "data = save(data)"
      ],
      "metadata": {
        "id": "8hTyRcyf37QR"
      },
      "execution_count": null,
      "outputs": []
    },
    {
      "cell_type": "code",
      "source": [
        "\n",
        "\n",
        "print(data.shape)\n",
        "print(list(data.columns))\n",
        "print(data.sample())\n",
        "print(data.info())\n",
        "print(data.describe())"
      ],
      "metadata": {
        "id": "u5wLdBwH37U0"
      },
      "execution_count": null,
      "outputs": []
    },
    {
      "cell_type": "markdown",
      "source": [
        "## **Regression**"
      ],
      "metadata": {
        "id": "G8oqi8nW4HUi"
      }
    },
    {
      "cell_type": "code",
      "source": [
        "\n",
        "## Build AI Model\n",
        "from sklearn.model_selection import train_test_split\n",
        "from sklearn.linear_model import LinearRegression\n",
        "from sklearn.metrics import mean_absolute_error\n",
        "from sklearn.metrics import mean_absolute_error, mean_squared_error, r2_score\n",
        "from sklearn.ensemble import RandomForestRegressor\n",
        "\n",
        "X = dataTrips[['Start_PostalCode', 'Day', 'Month', 'Year']]\n",
        "y = dataTrips['pickups']\n",
        "\n",
        "\n",
        "X_train, X_test, y_train, y_test = train_test_split(X, y, test_size=30, random_state=1)\n",
        "\n",
        "# model = LinearRegression()\n",
        "# model.fit(X_train, y_train)\n",
        "\n",
        "# y_pred = model.predict(X_test)\n",
        "\n",
        "# # Assuming y_test contains the actual values and y_pred contains the predicted values\n",
        "# mae = mean_absolute_error(y_test, y_pred)\n",
        "# mse = mean_squared_error(y_test, y_pred)\n",
        "# rmse = mean_squared_error(y_test, y_pred, squared=False)  # Pass squared=False to get RMSE\n",
        "# r2 = r2_score(y_test, y_pred)\n",
        "\n",
        "# print(f\"Mean Absolute Error (MAE): {mae}\")\n",
        "# print(f\"Mean Squared Error (MSE): {mse}\")\n",
        "# print(f\"Root Mean Squared Error (RMSE): {rmse}\")\n",
        "# print(f\"R-squared (R2) Score: {r2}\")\n",
        "\n",
        "\n",
        "# Create and Train the Random Forest Regressor Model\n",
        "rf_model = RandomForestRegressor(n_estimators=100, random_state=42)\n",
        "rf_model.fit(X_train, y_train)\n",
        "\n",
        "# Make Predictions\n",
        "y_pred = rf_model.predict(X_test)\n",
        "\n",
        "# Evaluate the Model\n",
        "mae = mean_absolute_error(y_test, y_pred)\n",
        "mse = mean_squared_error(y_test, y_pred)\n",
        "rmse = mean_squared_error(y_test, y_pred, squared=False)\n",
        "r2 = r2_score(y_test, y_pred)\n",
        "\n",
        "print(f\"Mean Absolute Error (MAE): {mae}\")\n",
        "print(f\"Mean Squared Error (MSE): {mse}\")\n",
        "print(f\"Root Mean Squared Error (RMSE): {rmse}\")\n",
        "print(f\"R-squared (R2) Score: {r2}\")"
      ],
      "metadata": {
        "colab": {
          "base_uri": "https://localhost:8080/"
        },
        "id": "JLHeWH-bPPY8",
        "outputId": "a26b3aa0-c7b0-49a2-f188-a9184f967712"
      },
      "execution_count": null,
      "outputs": [
        {
          "output_type": "stream",
          "name": "stdout",
          "text": [
            "Mean Absolute Error (MAE): 0.39228714225168754\n",
            "Mean Squared Error (MSE): 0.6262850038165251\n",
            "Root Mean Squared Error (RMSE): 0.7913817055103846\n",
            "R-squared (R2) Score: 0.22680863726354927\n"
          ]
        }
      ]
    },
    {
      "cell_type": "code",
      "source": [
        "print(max(y))\n",
        "print(max(y_test))"
      ],
      "metadata": {
        "colab": {
          "base_uri": "https://localhost:8080/"
        },
        "id": "6RZXLzjj2N0Q",
        "outputId": "eb3cc8f0-3cb8-4587-fa30-b7514647c022"
      },
      "execution_count": null,
      "outputs": [
        {
          "output_type": "stream",
          "name": "stdout",
          "text": [
            "17\n",
            "5\n"
          ]
        }
      ]
    },
    {
      "cell_type": "code",
      "source": [
        "import matplotlib.pyplot as plt\n",
        "\n",
        "# Plot actual vs. predicted values\n",
        "plt.figure(figsize=(8, 6))\n",
        "plt.scatter(y_test, y_pred, alpha=0.5)  # Scatter plot\n",
        "\n",
        "plt.xlabel(\"Actual Values\")\n",
        "plt.ylabel(\"Predicted Values\")\n",
        "plt.title(\"Actual vs. Predicted Values\")\n",
        "\n",
        "# Add a diagonal line for reference (perfect prediction)\n",
        "plt.plot([min(y_test), max(y_test)], [min(y_test), max(y_test)], linestyle='--', color='red', linewidth=2)\n",
        "\n",
        "plt.show()"
      ],
      "metadata": {
        "id": "mIs_QCeOVKmz"
      },
      "execution_count": null,
      "outputs": []
    },
    {
      "cell_type": "code",
      "source": [
        "\n",
        "# Make Predictions for Future Days (adjust X_future accordingly)\n",
        "X_future = pd.DataFrame({\n",
        "    'Start_PostalCode': 11692,\n",
        "    'Day': 19,\n",
        "    'Month': 11,\n",
        "    'Year': 2025\n",
        "}, index=[0])\n",
        "\n",
        "\n",
        "future_pickups = rf_model.predict(X_future)\n",
        "print(f\"Predicted Pickups for Future Day: {future_pickups}\")"
      ],
      "metadata": {
        "colab": {
          "base_uri": "https://localhost:8080/"
        },
        "id": "z6hTswkc40v_",
        "outputId": "99f662ee-bf8c-4a04-aa91-a57ed40c3a73"
      },
      "execution_count": null,
      "outputs": [
        {
          "output_type": "stream",
          "name": "stdout",
          "text": [
            "Predicted Pickups for Future Day: [1.14948413]\n"
          ]
        }
      ]
    },
    {
      "cell_type": "code",
      "source": [
        "from sklearn.model_selection import GridSearchCV\n",
        "from sklearn.neighbors import KNeighborsRegressor\n",
        "\n",
        "regk_grid = GridSearchCV(KNeighborsRegressor(),\n",
        "                       param_grid={\"n_neighbors\":np.arange(2,4),\n",
        "                                  \"leaf_size\":np.arange(15,25)},\n",
        "                       cv = 2,\n",
        "                       scoring = \"neg_mean_absolute_error\")\n",
        "\n",
        "# Train the model with the dataset\n",
        "regk_grid.fit(X_train,y_train)\n",
        "\n",
        "# Do predictions\n",
        "# regk_grid_y_pred = regk_grid.predict(X_val)\n",
        "regk_grid.best_params_\n",
        "\n",
        "\n",
        "\n"
      ],
      "metadata": {
        "colab": {
          "base_uri": "https://localhost:8080/"
        },
        "id": "K1TNWa4440yr",
        "outputId": "53863eef-96d2-4ec2-b342-676b79015dad"
      },
      "execution_count": null,
      "outputs": [
        {
          "output_type": "execute_result",
          "data": {
            "text/plain": [
              "{'leaf_size': 15, 'n_neighbors': 3}"
            ]
          },
          "metadata": {},
          "execution_count": 64
        }
      ]
    },
    {
      "cell_type": "code",
      "source": [
        "\n",
        "# Make Predictions for Future Days (adjust X_future accordingly)\n",
        "X_future = pd.DataFrame({\n",
        "    'Start_PostalCode': 11435,\n",
        "    'Day': 1,\n",
        "    'Month': 1,\n",
        "    'Year': 2025\n",
        "}, index=[0])\n",
        "\n",
        "\n",
        "future_pickups = regk_grid.predict(X_future)\n",
        "print(f\"Predicted Pickups for Future Day: {future_pickups}\")"
      ],
      "metadata": {
        "colab": {
          "base_uri": "https://localhost:8080/"
        },
        "id": "XWOT5Pf8yEJd",
        "outputId": "3f6ede60-36c0-4fd3-d512-803658906a28"
      },
      "execution_count": null,
      "outputs": [
        {
          "output_type": "stream",
          "name": "stdout",
          "text": [
            "Predicted Pickups for Future Day: [1.]\n"
          ]
        }
      ]
    },
    {
      "cell_type": "code",
      "source": [
        "import matplotlib.pyplot as plt\n",
        "\n",
        "# Plot actual vs. predicted values\n",
        "plt.figure(figsize=(8, 6))\n",
        "plt.scatter(y_test, y_pred, alpha=0.5)  # Scatter plot\n",
        "\n",
        "plt.xlabel(\"Actual Values\")\n",
        "plt.ylabel(\"Predicted Values\")\n",
        "plt.title(\"Actual vs. Predicted Values\")\n",
        "\n",
        "# Add a diagonal line for reference (perfect prediction)\n",
        "plt.plot([min(y_test), max(y_test)], [min(y_test), max(y_test)], linestyle='--', color='red', linewidth=2)\n",
        "\n",
        "plt.show()"
      ],
      "metadata": {
        "id": "0tmBx2hCyENE"
      },
      "execution_count": null,
      "outputs": []
    },
    {
      "cell_type": "code",
      "source": [
        "import matplotlib.pyplot as plt\n",
        "\n",
        "# Plot actual vs. predicted values\n",
        "plt.figure(figsize=(8, 6))\n",
        "plt.bar(y_test, y_pred, alpha=0.5)  # Scatter plot\n",
        "\n",
        "plt.xlabel(\"Actual Values\")\n",
        "plt.ylabel(\"Predicted Values\")\n",
        "plt.title(\"Actual vs. Predicted Values\")\n",
        "\n",
        "# Add a diagonal line for reference (perfect prediction)\n",
        "plt.plot([min(y_test), max(y_test)], [min(y_test), max(y_test)], linestyle='--', color='red', linewidth=2)\n",
        "\n",
        "plt.show()"
      ],
      "metadata": {
        "id": "OvFroY6kyEQC"
      },
      "execution_count": null,
      "outputs": []
    },
    {
      "cell_type": "code",
      "source": [
        "print(max(y_pred))\n",
        "print(max(y_test))"
      ],
      "metadata": {
        "colab": {
          "base_uri": "https://localhost:8080/"
        },
        "id": "FkHBvbZP0T9f",
        "outputId": "9abd77e2-d4df-4aa7-a363-8fd3e823b82e"
      },
      "execution_count": null,
      "outputs": [
        {
          "output_type": "stream",
          "name": "stdout",
          "text": [
            "2.748392524142525\n",
            "2\n"
          ]
        }
      ]
    },
    {
      "cell_type": "code",
      "source": [],
      "metadata": {
        "id": "2na0akLVyETL"
      },
      "execution_count": null,
      "outputs": []
    },
    {
      "cell_type": "code",
      "source": [],
      "metadata": {
        "id": "S6f6JKyDyEV7"
      },
      "execution_count": null,
      "outputs": []
    },
    {
      "cell_type": "code",
      "source": [],
      "metadata": {
        "id": "Pzf9RxlFyEY2"
      },
      "execution_count": null,
      "outputs": []
    },
    {
      "cell_type": "code",
      "source": [],
      "metadata": {
        "id": "DGHQM2c_400t"
      },
      "execution_count": null,
      "outputs": []
    },
    {
      "cell_type": "code",
      "source": [],
      "metadata": {
        "id": "ghVR1OlrwcyN"
      },
      "execution_count": null,
      "outputs": []
    },
    {
      "cell_type": "code",
      "source": [],
      "metadata": {
        "id": "gqzUSFUiwc21"
      },
      "execution_count": 3,
      "outputs": []
    },
    {
      "cell_type": "code",
      "source": [],
      "metadata": {
        "id": "x3J-TQjo1QcI"
      },
      "execution_count": null,
      "outputs": []
    },
    {
      "cell_type": "code",
      "source": [],
      "metadata": {
        "id": "3vIfEg-Swc5j"
      },
      "execution_count": 5,
      "outputs": []
    },
    {
      "cell_type": "code",
      "source": [],
      "metadata": {
        "id": "KYbPInE5wc74"
      },
      "execution_count": 6,
      "outputs": []
    },
    {
      "cell_type": "code",
      "source": [],
      "metadata": {
        "id": "vWForsokwc-V"
      },
      "execution_count": null,
      "outputs": []
    },
    {
      "cell_type": "code",
      "source": [],
      "metadata": {
        "id": "aPLRoh-ZwdA9"
      },
      "execution_count": null,
      "outputs": []
    },
    {
      "cell_type": "code",
      "source": [],
      "metadata": {
        "id": "5WVEyKexwdDL"
      },
      "execution_count": null,
      "outputs": []
    }
  ]
}